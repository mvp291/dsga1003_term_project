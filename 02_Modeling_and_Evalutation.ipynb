{
 "cells": [
  {
   "cell_type": "code",
   "execution_count": 10,
   "metadata": {
    "collapsed": false
   },
   "outputs": [],
   "source": [
    "import pandas as pd\n",
    "import numpy as np\n",
    "import matplotlib.pyplot as plt\n",
    "from sklearn import preprocessing\n",
    "from sklearn.tree import DecisionTreeRegressor, DecisionTreeClassifier, export_graphviz\n",
    "from sklearn.ensemble import RandomForestRegressor\n",
    "from sklearn.linear_model import Lasso\n",
    "from sklearn.metrics import mean_absolute_error\n",
    "from itertools import product\n",
    "import utils as ut\n",
    "reload(ut)\n",
    "%matplotlib inline"
   ]
  },
  {
   "cell_type": "code",
   "execution_count": 3,
   "metadata": {
    "collapsed": false
   },
   "outputs": [],
   "source": [
    "train = pd.read_csv('data/ds3_train.csv', index_col=0)\n",
    "val = pd.read_csv('data/ds3_val.csv', index_col=0)\n",
    "test = pd.read_csv('data/ds3_test.csv', index_col=0)"
   ]
  },
  {
   "cell_type": "code",
   "execution_count": 4,
   "metadata": {
    "collapsed": false
   },
   "outputs": [],
   "source": [
    "# Separate target variables\n",
    "X, y_e, y_a = train.ix[:, :-3], train.ix[:, 'elevation'], train.ix[:, 'azimuth']\n",
    "X_val, y_val_e, y_val_a = val.ix[:, :-3], val.ix[:, 'elevation'], val.ix[:, 'azimuth']\n",
    "X_test, y_test_e, y_test_a = test.ix[:, :-3], test.ix[:, 'elevation'], test.ix[:, 'azimuth']"
   ]
  },
  {
   "cell_type": "code",
   "execution_count": 5,
   "metadata": {
    "collapsed": false
   },
   "outputs": [
    {
     "name": "stdout",
     "output_type": "stream",
     "text": [
      "(42500, 1448) (6250, 1448) (7500, 1448)\n"
     ]
    }
   ],
   "source": [
    "print X.shape, X_val.shape, X_test.shape"
   ]
  },
  {
   "cell_type": "markdown",
   "metadata": {},
   "source": [
    "### Standarize features"
   ]
  },
  {
   "cell_type": "code",
   "execution_count": 6,
   "metadata": {
    "collapsed": false
   },
   "outputs": [],
   "source": [
    "scaler = preprocessing.StandardScaler().fit(X)"
   ]
  },
  {
   "cell_type": "code",
   "execution_count": 7,
   "metadata": {
    "collapsed": false
   },
   "outputs": [],
   "source": [
    "# Feature normalization\n",
    "X = scaler.transform(X)\n",
    "X_val = scaler.transform(X_val)\n",
    "X_test = scaler.transform(X_test)"
   ]
  },
  {
   "cell_type": "markdown",
   "metadata": {},
   "source": [
    "### Grid Search method"
   ]
  },
  {
   "cell_type": "code",
   "execution_count": 60,
   "metadata": {
    "collapsed": false
   },
   "outputs": [],
   "source": [
    "def grid_search(X, y, X_val, y_val, loss_func, model_grid):\n",
    "    res = {}\n",
    "    for i in range(len(model_grid)):\n",
    "        tested_params = []\n",
    "        loss_val_res = []\n",
    "        loss_train_res = []\n",
    "        skmodel = model_grid[i]['model']\n",
    "        params_to_test = model_grid[i][\"params\"]\n",
    "\n",
    "        for param_comb in product(*params_to_test.values()):\n",
    "            params = {}\n",
    "            for i, p in enumerate(params_to_test.keys()):\n",
    "                params[p] = param_comb[i]\n",
    "            model = skmodel(**params)\n",
    "            model.fit(X, y)\n",
    "            y_pred = model.predict(X_val)\n",
    "            y_pred_train = model.predict(X)\n",
    "            loss = loss_func(y_pred, y_val)\n",
    "            loss_train = loss_func(y_pred_train, y)\n",
    "            tested_params.append(str(params))\n",
    "            loss_val_res.append(loss)\n",
    "            loss_train_res.append(loss_train)\n",
    "        res[str(skmodel)] = {p: [l_t, l_v] for (p, l_t, l_v) in zip(tested_params, loss_train_res, loss_val_res)}\n",
    "    return res"
   ]
  },
  {
   "cell_type": "code",
   "execution_count": 61,
   "metadata": {
    "collapsed": false
   },
   "outputs": [
    {
     "name": "stdout",
     "output_type": "stream",
     "text": [
      "{\"<class 'sklearn.tree.tree.DecisionTreeRegressor'>\": {\"{'max_depth': 2, 'min_samples_leaf': 10}\": [27.741661259176805, 27.367744662883542], \"{'max_depth': 2, 'min_samples_leaf': 1}\": [27.741661259176805, 27.367744662883542]}}\n"
     ]
    }
   ],
   "source": [
    "model_grid = [{\n",
    "            \"model\": DecisionTreeRegressor,\n",
    "            \"params\": {'max_depth': [2],\n",
    "                       'min_samples_leaf': [1, 10]}\n",
    "            }]\n",
    "\n",
    "print grid_search(X, y_e, X_val, y_val_e, mean_absolute_error, model_grid)"
   ]
  },
  {
   "cell_type": "code",
   "execution_count": 9,
   "metadata": {
    "collapsed": false
   },
   "outputs": [
    {
     "name": "stdout",
     "output_type": "stream",
     "text": [
      "18.8523180509\n"
     ]
    }
   ],
   "source": [
    "from sklearn.neighbors import KNeighborsRegressor\n",
    "# Does it help KNN?\n",
    "knn_regr = KNeighborsRegressor(n_neighbors=5, weights='distance', n_jobs=-1)\n",
    "knn_regr.fit(X, y_e)\n",
    "# Predict\n",
    "y_pred_e = knn_regr.predict(X_val)\n",
    "loss = mean_absolute_error(y_val_e, y_pred_e)\n",
    "\n",
    "print loss"
   ]
  },
  {
   "cell_type": "code",
   "execution_count": null,
   "metadata": {
    "collapsed": false
   },
   "outputs": [],
   "source": [
    "depth = 10\n",
    "params = [max_depth=depth]\n",
    "regr = DecisionTreeRegressor()\n",
    "regr.fit(X, y_e)\n",
    "# Predict\n",
    "y_pred_e = regr.predict(X_test)\n",
    "loss = mean_absolute_error(y_test_e, y_pred_e)\n",
    "\n",
    "print loss"
   ]
  },
  {
   "cell_type": "code",
   "execution_count": null,
   "metadata": {
    "collapsed": false
   },
   "outputs": [],
   "source": [
    "# Build dataframe to compare real values with predictions on test set\n",
    "y_test = pd.Series(y_test_e, index=test.index)\n",
    "y_pred = pd.Series(y_pred_e, index=test.index)\n",
    "new_df = pd.concat([y_test, y_pred, test.ix[:, -3:]], axis=1)\n",
    "new_df.to_csv('results/regtree15_all_features.csv')"
   ]
  },
  {
   "cell_type": "code",
   "execution_count": null,
   "metadata": {
    "collapsed": false
   },
   "outputs": [],
   "source": [
    "# Regression Random Forest\n",
    "forest = RandomForestRegressor(n_estimators=100, max_features='sqrt')\n",
    "forest.fit(X, y_e)\n",
    "# Predict\n",
    "y_pred_e = forest.predict(X_test)\n",
    "loss = mean_absolute_error(y_test_e, y_pred_e)\n",
    "\n",
    "print loss"
   ]
  },
  {
   "cell_type": "code",
   "execution_count": null,
   "metadata": {
    "collapsed": false
   },
   "outputs": [],
   "source": [
    "# Regression Random Forest\n",
    "forest_azimuth = RandomForestRegressor(n_estimators=100, max_features='sqrt')\n",
    "forest_azimuth.fit(X, y_a)\n",
    "# Predict\n",
    "y_pred_a = forest_azimuth.predict(X_test)\n",
    "loss = loss_azimuth(y_test_a, y_pred_a)\n",
    "\n",
    "print loss"
   ]
  },
  {
   "cell_type": "markdown",
   "metadata": {},
   "source": [
    "27.9457466667"
   ]
  },
  {
   "cell_type": "code",
   "execution_count": null,
   "metadata": {
    "collapsed": true
   },
   "outputs": [],
   "source": [
    "forest_azimuth."
   ]
  },
  {
   "cell_type": "code",
   "execution_count": null,
   "metadata": {
    "collapsed": false
   },
   "outputs": [],
   "source": [
    "importances = pd.Series(regr.feature_importances_, index=ds_3.columns[:-3])"
   ]
  },
  {
   "cell_type": "code",
   "execution_count": null,
   "metadata": {
    "collapsed": false
   },
   "outputs": [],
   "source": [
    "clf = Lasso(alpha=0.1)\n",
    "clf.fit(X, y_e)\n",
    "# Predict\n",
    "y_pred_e = clf.predict(X_test)\n",
    "loss = mean_absolute_error(y_test_e, y_pred_e)\n",
    "\n",
    "print loss"
   ]
  },
  {
   "cell_type": "code",
   "execution_count": null,
   "metadata": {
    "collapsed": false
   },
   "outputs": [],
   "source": [
    "coef = clf.coef_"
   ]
  },
  {
   "cell_type": "code",
   "execution_count": null,
   "metadata": {
    "collapsed": false
   },
   "outputs": [],
   "source": [
    "plt.figure(figsize=(7, 7))\n",
    "plt.plot(range(len(coef)), coef)\n",
    "print train.columns\n",
    "plt.title('Coefficients')\n",
    "plt.show()"
   ]
  },
  {
   "cell_type": "code",
   "execution_count": null,
   "metadata": {
    "collapsed": true
   },
   "outputs": [],
   "source": [
    "# Build dataframe to compare real values with predictions on test set\n",
    "y_test = pd.Series(y_test_e, index=test.index)\n",
    "y_pred = pd.Series(y_pred_e, index=test.index)\n",
    "new_df = pd.concat([y_test, y_pred, test.ix[:, -3:]], axis=1)\n",
    "new_df.to_csv('results/lasso_all_features.csv')"
   ]
  },
  {
   "cell_type": "code",
   "execution_count": null,
   "metadata": {
    "collapsed": true
   },
   "outputs": [],
   "source": []
  }
 ],
 "metadata": {
  "kernelspec": {
   "display_name": "Python 2",
   "language": "python",
   "name": "python2"
  },
  "language_info": {
   "codemirror_mode": {
    "name": "ipython",
    "version": 2
   },
   "file_extension": ".py",
   "mimetype": "text/x-python",
   "name": "python",
   "nbconvert_exporter": "python",
   "pygments_lexer": "ipython2",
   "version": "2.7.11"
  }
 },
 "nbformat": 4,
 "nbformat_minor": 0
}
