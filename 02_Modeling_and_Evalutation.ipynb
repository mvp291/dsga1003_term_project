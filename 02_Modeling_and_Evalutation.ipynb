{
 "cells": [
  {
   "cell_type": "code",
   "execution_count": 12,
   "metadata": {
    "collapsed": false
   },
   "outputs": [],
   "source": [
    "import pandas as pd\n",
    "import numpy as np\n",
    "import matplotlib.pyplot as plt\n",
    "from sklearn import preprocessing\n",
    "from sklearn.tree import DecisionTreeRegressor, DecisionTreeClassifier, export_graphviz\n",
    "from sklearn.ensemble import RandomForestRegressor, GradientBoostingRegressor\n",
    "from sklearn.neighbors import KNeighborsRegressor\n",
    "from sklearn.linear_model import Lasso\n",
    "from sklearn.metrics import mean_absolute_error\n",
    "from itertools import product\n",
    "import utils as ut\n",
    "reload(ut)\n",
    "%matplotlib inline"
   ]
  },
  {
   "cell_type": "code",
   "execution_count": 5,
   "metadata": {
    "collapsed": false
   },
   "outputs": [],
   "source": [
    "train = pd.read_csv('data/ds3_train.csv', index_col=0)\n",
    "val = pd.read_csv('data/ds3_val.csv', index_col=0)\n",
    "test = pd.read_csv('data/ds3_test.csv', index_col=0)"
   ]
  },
  {
   "cell_type": "code",
   "execution_count": 6,
   "metadata": {
    "collapsed": false
   },
   "outputs": [],
   "source": [
    "# Separate target variables\n",
    "X, y_e, y_a = train.ix[:, :-3], train.ix[:, 'elevation'], train.ix[:, 'azimuth']\n",
    "X_val, y_val_e, y_val_a = val.ix[:, :-3], val.ix[:, 'elevation'], val.ix[:, 'azimuth']\n",
    "X_test, y_test_e, y_test_a = test.ix[:, :-3], test.ix[:, 'elevation'], test.ix[:, 'azimuth']"
   ]
  },
  {
   "cell_type": "code",
   "execution_count": 7,
   "metadata": {
    "collapsed": false
   },
   "outputs": [
    {
     "name": "stdout",
     "output_type": "stream",
     "text": [
      "(42500, 1448) (6250, 1448) (7500, 1448)\n"
     ]
    }
   ],
   "source": [
    "print X.shape, X_val.shape, X_test.shape"
   ]
  },
  {
   "cell_type": "markdown",
   "metadata": {},
   "source": [
    "### Standarize features"
   ]
  },
  {
   "cell_type": "code",
   "execution_count": 8,
   "metadata": {
    "collapsed": false
   },
   "outputs": [],
   "source": [
    "scaler = preprocessing.StandardScaler().fit(X)"
   ]
  },
  {
   "cell_type": "code",
   "execution_count": 9,
   "metadata": {
    "collapsed": false
   },
   "outputs": [],
   "source": [
    "# Feature normalization\n",
    "X = scaler.transform(X)\n",
    "X_val = scaler.transform(X_val)\n",
    "X_test = scaler.transform(X_test)"
   ]
  },
  {
   "cell_type": "markdown",
   "metadata": {},
   "source": [
    "### Grid Search method"
   ]
  },
  {
   "cell_type": "code",
   "execution_count": 15,
   "metadata": {
    "collapsed": false
   },
   "outputs": [],
   "source": [
    "def grid_search(X, y, X_val, y_val, loss_func, model_grid):\n",
    "    res = {}\n",
    "    for j in range(len(model_grid)):\n",
    "        tested_params = []\n",
    "        loss_val_res = []\n",
    "        loss_train_res = []\n",
    "        skmodel = model_grid[j]['model']\n",
    "        params_to_test = model_grid[j][\"params\"]\n",
    "\n",
    "        for param_comb in product(*params_to_test.values()):\n",
    "            params = {}\n",
    "            for i, p in enumerate(params_to_test.keys()):\n",
    "                params[p] = param_comb[i]\n",
    "            print 'Testing j:', j, 'param_comb:', params\n",
    "            model = skmodel(**params)\n",
    "            model.fit(X, y)\n",
    "            y_pred = model.predict(X_val)\n",
    "            y_pred_train = model.predict(X)\n",
    "            loss = loss_func(y_pred, y_val)\n",
    "            loss_train = loss_func(y_pred_train, y)\n",
    "            tested_params.append(str(params))\n",
    "            loss_val_res.append(loss)\n",
    "            loss_train_res.append(loss_train)\n",
    "        print j, str(skmodel), zip(tested_params, loss_train_res, loss_val_res)\n",
    "        res[str(skmodel)] = {p: [l_t, l_v] for (p, l_t, l_v) in zip(tested_params, loss_train_res, loss_val_res)}\n",
    "    return res"
   ]
  },
  {
   "cell_type": "code",
   "execution_count": 16,
   "metadata": {
    "collapsed": false,
    "scrolled": true
   },
   "outputs": [
    {
     "name": "stdout",
     "output_type": "stream",
     "text": [
      "Tenting j: 0 param_comb: {'min_samples_split': 2, 'max_depth': 10, 'min_samples_leaf': 1}\n",
      "Tenting j: 0 param_comb: {'min_samples_split': 2, 'max_depth': 10, 'min_samples_leaf': 10}\n",
      "Tenting j: 0 param_comb: {'min_samples_split': 2, 'max_depth': 10, 'min_samples_leaf': 20}\n",
      "Tenting j: 0 param_comb: {'min_samples_split': 2, 'max_depth': 10, 'min_samples_leaf': 40}\n",
      "Tenting j: 0 param_comb: {'min_samples_split': 2, 'max_depth': 11, 'min_samples_leaf': 1}\n",
      "Tenting j: 0 param_comb: {'min_samples_split': 2, 'max_depth': 11, 'min_samples_leaf': 10}\n",
      "Tenting j: 0 param_comb: {'min_samples_split': 2, 'max_depth': 11, 'min_samples_leaf': 20}\n",
      "Tenting j: 0 param_comb: {'min_samples_split': 2, 'max_depth': 11, 'min_samples_leaf': 40}\n",
      "Tenting j: 0 param_comb: {'min_samples_split': 20, 'max_depth': 10, 'min_samples_leaf': 1}\n",
      "Tenting j: 0 param_comb: {'min_samples_split': 20, 'max_depth': 10, 'min_samples_leaf': 10}\n",
      "Tenting j: 0 param_comb: {'min_samples_split': 20, 'max_depth': 10, 'min_samples_leaf': 20}\n",
      "Tenting j: 0 param_comb: {'min_samples_split': 20, 'max_depth': 10, 'min_samples_leaf': 40}\n",
      "Tenting j: 0 param_comb: {'min_samples_split': 20, 'max_depth': 11, 'min_samples_leaf': 1}\n",
      "Tenting j: 0 param_comb: {'min_samples_split': 20, 'max_depth': 11, 'min_samples_leaf': 10}\n",
      "Tenting j: 0 param_comb: {'min_samples_split': 20, 'max_depth': 11, 'min_samples_leaf': 20}\n",
      "Tenting j: 0 param_comb: {'min_samples_split': 20, 'max_depth': 11, 'min_samples_leaf': 40}\n",
      "Tenting j: 0 param_comb: {'min_samples_split': 40, 'max_depth': 10, 'min_samples_leaf': 1}\n",
      "Tenting j: 0 param_comb: {'min_samples_split': 40, 'max_depth': 10, 'min_samples_leaf': 10}\n",
      "Tenting j: 0 param_comb: {'min_samples_split': 40, 'max_depth': 10, 'min_samples_leaf': 20}\n",
      "Tenting j: 0 param_comb: {'min_samples_split': 40, 'max_depth': 10, 'min_samples_leaf': 40}\n",
      "Tenting j: 0 param_comb: {'min_samples_split': 40, 'max_depth': 11, 'min_samples_leaf': 1}\n",
      "Tenting j: 0 param_comb: {'min_samples_split': 40, 'max_depth': 11, 'min_samples_leaf': 10}\n",
      "Tenting j: 0 param_comb: {'min_samples_split': 40, 'max_depth': 11, 'min_samples_leaf': 20}\n",
      "Tenting j: 0 param_comb: {'min_samples_split': 40, 'max_depth': 11, 'min_samples_leaf': 40}\n",
      "0 <class 'sklearn.tree.tree.DecisionTreeRegressor'> [(\"{'min_samples_split': 2, 'max_depth': 10, 'min_samples_leaf': 1}\", 10.114177971842444, 16.728963980336943), (\"{'min_samples_split': 2, 'max_depth': 10, 'min_samples_leaf': 10}\", 10.384851221614374, 16.704931900699325), (\"{'min_samples_split': 2, 'max_depth': 10, 'min_samples_leaf': 20}\", 10.731565677218549, 16.565348584749415), (\"{'min_samples_split': 2, 'max_depth': 10, 'min_samples_leaf': 40}\", 11.374541206472422, 16.622840794209647), (\"{'min_samples_split': 2, 'max_depth': 11, 'min_samples_leaf': 1}\", 8.5432223454975453, 16.703584812934288), (\"{'min_samples_split': 2, 'max_depth': 11, 'min_samples_leaf': 10}\", 9.0785889374342084, 16.547931441902207), (\"{'min_samples_split': 2, 'max_depth': 11, 'min_samples_leaf': 20}\", 9.6868088111459141, 16.513258431135359), (\"{'min_samples_split': 2, 'max_depth': 11, 'min_samples_leaf': 40}\", 10.632708027192008, 16.304070195934909), (\"{'min_samples_split': 20, 'max_depth': 10, 'min_samples_leaf': 1}\", 10.318634701909804, 16.809147975655446), (\"{'min_samples_split': 20, 'max_depth': 10, 'min_samples_leaf': 10}\", 10.385238460845731, 16.770517342942501), (\"{'min_samples_split': 20, 'max_depth': 10, 'min_samples_leaf': 20}\", 10.731565677218549, 16.521512852739487), (\"{'min_samples_split': 20, 'max_depth': 10, 'min_samples_leaf': 40}\", 11.373696668657296, 16.651416106276223), (\"{'min_samples_split': 20, 'max_depth': 11, 'min_samples_leaf': 1}\", 8.9692381107026584, 16.661293991184937), (\"{'min_samples_split': 20, 'max_depth': 11, 'min_samples_leaf': 10}\", 9.0784873556250112, 16.499629251538316), (\"{'min_samples_split': 20, 'max_depth': 11, 'min_samples_leaf': 20}\", 9.6868088111459141, 16.445482699125439), (\"{'min_samples_split': 20, 'max_depth': 11, 'min_samples_leaf': 40}\", 10.636459011529043, 16.305131608978389), (\"{'min_samples_split': 40, 'max_depth': 10, 'min_samples_leaf': 1}\", 10.642991902373938, 16.691980685419225), (\"{'min_samples_split': 40, 'max_depth': 10, 'min_samples_leaf': 10}\", 10.682509667815232, 16.663506773477224), (\"{'min_samples_split': 40, 'max_depth': 10, 'min_samples_leaf': 20}\", 10.731565677218549, 16.515345709882347), (\"{'min_samples_split': 40, 'max_depth': 10, 'min_samples_leaf': 40}\", 11.371555473573668, 16.652477519319699), (\"{'min_samples_split': 40, 'max_depth': 11, 'min_samples_leaf': 1}\", 9.4821985907014845, 16.464790376907164), (\"{'min_samples_split': 40, 'max_depth': 11, 'min_samples_leaf': 10}\", 9.5530823626499721, 16.518324817680785), (\"{'min_samples_split': 40, 'max_depth': 11, 'min_samples_leaf': 20}\", 9.6875396066371859, 16.482213601932308), (\"{'min_samples_split': 40, 'max_depth': 11, 'min_samples_leaf': 40}\", 10.632708027192006, 16.304070195934909)]\n",
      "Tenting j: 1 param_comb: {'n_estimators': 50, 'max_features': 'sqrt'}\n",
      "Tenting j: 1 param_comb: {'n_estimators': 50, 'max_features': 'log2'}\n",
      "Tenting j: 1 param_comb: {'n_estimators': 100, 'max_features': 'sqrt'}\n",
      "Tenting j: 1 param_comb: {'n_estimators': 100, 'max_features': 'log2'}\n",
      "Tenting j: 1 param_comb: {'n_estimators': 200, 'max_features': 'sqrt'}\n",
      "Tenting j: 1 param_comb: {'n_estimators': 200, 'max_features': 'log2'}\n",
      "1 <class 'sklearn.ensemble.forest.RandomForestRegressor'> [(\"{'n_estimators': 50, 'max_features': 'sqrt'}\", 2.7222802941176467, 12.992922), (\"{'n_estimators': 50, 'max_features': 'log2'}\", 3.4418805882352945, 15.3828), (\"{'n_estimators': 100, 'max_features': 'sqrt'}\", 2.5832316176470589, 13.048686000000002), (\"{'n_estimators': 100, 'max_features': 'log2'}\", 3.2593777941176469, 15.224625), (\"{'n_estimators': 200, 'max_features': 'sqrt'}\", 2.4923719852941173, 12.8780775), (\"{'n_estimators': 200, 'max_features': 'log2'}\", 3.1599873529411764, 15.198745499999998)]\n",
      "Tenting j: 2 param_comb: {'n_estimators': 100, 'loss': 'ls', 'max_features': None, 'subsample': 0.8}\n",
      "Tenting j: 2 param_comb: {'n_estimators': 100, 'loss': 'ls', 'max_features': None, 'subsample': 1}\n",
      "Tenting j: 2 param_comb: {'n_estimators': 100, 'loss': 'ls', 'max_features': 'sqrt', 'subsample': 0.8}\n",
      "Tenting j: 2 param_comb: {'n_estimators': 100, 'loss': 'ls', 'max_features': 'sqrt', 'subsample': 1}\n",
      "Tenting j: 2 param_comb: {'n_estimators': 100, 'loss': 'ls', 'max_features': 'log2', 'subsample': 0.8}\n",
      "Tenting j: 2 param_comb: {'n_estimators': 100, 'loss': 'ls', 'max_features': 'log2', 'subsample': 1}\n",
      "Tenting j: 2 param_comb: {'n_estimators': 100, 'loss': 'lad', 'max_features': None, 'subsample': 0.8}\n",
      "Tenting j: 2 param_comb: {'n_estimators': 100, 'loss': 'lad', 'max_features': None, 'subsample': 1}\n",
      "Tenting j: 2 param_comb: {'n_estimators': 100, 'loss': 'lad', 'max_features': 'sqrt', 'subsample': 0.8}\n",
      "Tenting j: 2 param_comb: {'n_estimators': 100, 'loss': 'lad', 'max_features': 'sqrt', 'subsample': 1}\n",
      "Tenting j: 2 param_comb: {'n_estimators': 100, 'loss': 'lad', 'max_features': 'log2', 'subsample': 0.8}\n",
      "Tenting j: 2 param_comb: {'n_estimators': 100, 'loss': 'lad', 'max_features': 'log2', 'subsample': 1}\n",
      "Tenting j: 2 param_comb: {'n_estimators': 200, 'loss': 'ls', 'max_features': None, 'subsample': 0.8}\n",
      "Tenting j: 2 param_comb: {'n_estimators': 200, 'loss': 'ls', 'max_features': None, 'subsample': 1}\n",
      "Tenting j: 2 param_comb: {'n_estimators': 200, 'loss': 'ls', 'max_features': 'sqrt', 'subsample': 0.8}\n",
      "Tenting j: 2 param_comb: {'n_estimators': 200, 'loss': 'ls', 'max_features': 'sqrt', 'subsample': 1}\n",
      "Tenting j: 2 param_comb: {'n_estimators': 200, 'loss': 'ls', 'max_features': 'log2', 'subsample': 0.8}\n",
      "Tenting j: 2 param_comb: {'n_estimators': 200, 'loss': 'ls', 'max_features': 'log2', 'subsample': 1}\n",
      "Tenting j: 2 param_comb: {'n_estimators': 200, 'loss': 'lad', 'max_features': None, 'subsample': 0.8}\n",
      "Tenting j: 2 param_comb: {'n_estimators': 200, 'loss': 'lad', 'max_features': None, 'subsample': 1}\n",
      "Tenting j: 2 param_comb: {'n_estimators': 200, 'loss': 'lad', 'max_features': 'sqrt', 'subsample': 0.8}\n",
      "Tenting j: 2 param_comb: {'n_estimators': 200, 'loss': 'lad', 'max_features': 'sqrt', 'subsample': 1}\n",
      "Tenting j: 2 param_comb: {'n_estimators': 200, 'loss': 'lad', 'max_features': 'log2', 'subsample': 0.8}\n",
      "Tenting j: 2 param_comb: {'n_estimators': 200, 'loss': 'lad', 'max_features': 'log2', 'subsample': 1}\n",
      "2 <class 'sklearn.ensemble.gradient_boosting.GradientBoostingRegressor'> [(\"{'n_estimators': 100, 'loss': 'ls', 'max_features': None, 'subsample': 0.8}\", 11.88146254100487, 14.027962714770823), (\"{'n_estimators': 100, 'loss': 'ls', 'max_features': None, 'subsample': 1}\", 11.817467435613397, 14.145271386007671), (\"{'n_estimators': 100, 'loss': 'ls', 'max_features': 'sqrt', 'subsample': 0.8}\", 12.982166020990398, 15.204806596460356), (\"{'n_estimators': 100, 'loss': 'ls', 'max_features': 'sqrt', 'subsample': 1}\", 12.94021067940567, 14.525941616922273), (\"{'n_estimators': 100, 'loss': 'ls', 'max_features': 'log2', 'subsample': 0.8}\", 14.309918268962832, 16.346562506637582), (\"{'n_estimators': 100, 'loss': 'ls', 'max_features': 'log2', 'subsample': 1}\", 14.684036777715601, 17.094793631643615), (\"{'n_estimators': 100, 'loss': 'lad', 'max_features': None, 'subsample': 0.8}\", 12.03968388984147, 14.387902747779041), (\"{'n_estimators': 100, 'loss': 'lad', 'max_features': None, 'subsample': 1}\", 12.043235565184624, 14.224952787830075), (\"{'n_estimators': 100, 'loss': 'lad', 'max_features': 'sqrt', 'subsample': 0.8}\", 13.005501835530506, 15.290436069199448), (\"{'n_estimators': 100, 'loss': 'lad', 'max_features': 'sqrt', 'subsample': 1}\", 13.069394347786961, 15.279569856289699), (\"{'n_estimators': 100, 'loss': 'lad', 'max_features': 'log2', 'subsample': 0.8}\", 14.233701416409778, 16.7749936103667), (\"{'n_estimators': 100, 'loss': 'lad', 'max_features': 'log2', 'subsample': 1}\", 14.178573313713104, 16.818498580116501), (\"{'n_estimators': 200, 'loss': 'ls', 'max_features': None, 'subsample': 0.8}\", 10.052965880455728, 13.185094531644001), (\"{'n_estimators': 200, 'loss': 'ls', 'max_features': None, 'subsample': 1}\", 10.000222173407202, 13.274455671132268), (\"{'n_estimators': 200, 'loss': 'ls', 'max_features': 'sqrt', 'subsample': 0.8}\", 11.089671721029132, 14.355092560320925), (\"{'n_estimators': 200, 'loss': 'ls', 'max_features': 'sqrt', 'subsample': 1}\", 10.915171928960433, 14.008512070871928), (\"{'n_estimators': 200, 'loss': 'ls', 'max_features': 'log2', 'subsample': 0.8}\", 11.942447640186163, 14.784067225960403), (\"{'n_estimators': 200, 'loss': 'ls', 'max_features': 'log2', 'subsample': 1}\", 12.106518273087133, 14.97342490612302), (\"{'n_estimators': 200, 'loss': 'lad', 'max_features': None, 'subsample': 0.8}\", 10.227862569060633, 13.477715678704804), (\"{'n_estimators': 200, 'loss': 'lad', 'max_features': None, 'subsample': 1}\", 10.214908141018075, 13.390520346824937), (\"{'n_estimators': 200, 'loss': 'lad', 'max_features': 'sqrt', 'subsample': 0.8}\", 11.048099654464126, 13.755757662265669), (\"{'n_estimators': 200, 'loss': 'lad', 'max_features': 'sqrt', 'subsample': 1}\", 11.048853303808038, 14.07800635629367), (\"{'n_estimators': 200, 'loss': 'lad', 'max_features': 'log2', 'subsample': 0.8}\", 12.043891018835328, 15.390137155018099), (\"{'n_estimators': 200, 'loss': 'lad', 'max_features': 'log2', 'subsample': 1}\", 12.174754093895599, 15.402709705222739)]\n",
      "Tenting j: 3 param_comb: {'n_neighbors': 5, 'n_jobs': -1, 'weights': 'uniform'}\n",
      "Tenting j: 3 param_comb: {'n_neighbors': 5, 'n_jobs': -1, 'weights': 'distance'}\n",
      "Tenting j: 3 param_comb: {'n_neighbors': 10, 'n_jobs': -1, 'weights': 'uniform'}\n",
      "Tenting j: 3 param_comb: {'n_neighbors': 10, 'n_jobs': -1, 'weights': 'distance'}\n",
      "Tenting j: 3 param_comb: {'n_neighbors': 20, 'n_jobs': -1, 'weights': 'uniform'}\n",
      "Tenting j: 3 param_comb: {'n_neighbors': 20, 'n_jobs': -1, 'weights': 'distance'}\n",
      "3 <class 'sklearn.neighbors.regression.KNeighborsRegressor'> [(\"{'n_neighbors': 5, 'n_jobs': -1, 'weights': 'uniform'}\", 3.3331235294117647, 18.860399999999998), (\"{'n_neighbors': 5, 'n_jobs': -1, 'weights': 'distance'}\", 0.0, 18.852318050934013), (\"{'n_neighbors': 10, 'n_jobs': -1, 'weights': 'uniform'}\", 6.8501514705882354, 18.59517), (\"{'n_neighbors': 10, 'n_jobs': -1, 'weights': 'distance'}\", 0.0, 18.574967100955813), (\"{'n_neighbors': 20, 'n_jobs': -1, 'weights': 'uniform'}\", 11.183631617647059, 18.722384999999999), (\"{'n_neighbors': 20, 'n_jobs': -1, 'weights': 'distance'}\", 0.0, 18.684803319697085)]\n",
      "{\"<class 'sklearn.ensemble.gradient_boosting.GradientBoostingRegressor'>\": {\"{'n_estimators': 200, 'loss': 'ls', 'max_features': 'sqrt', 'subsample': 0.8}\": [11.089671721029132, 14.355092560320925], \"{'n_estimators': 100, 'loss': 'ls', 'max_features': 'log2', 'subsample': 0.8}\": [14.309918268962832, 16.346562506637582], \"{'n_estimators': 200, 'loss': 'ls', 'max_features': 'sqrt', 'subsample': 1}\": [10.915171928960433, 14.008512070871928], \"{'n_estimators': 100, 'loss': 'ls', 'max_features': 'log2', 'subsample': 1}\": [14.684036777715601, 17.094793631643615], \"{'n_estimators': 200, 'loss': 'lad', 'max_features': None, 'subsample': 0.8}\": [10.227862569060633, 13.477715678704804], \"{'n_estimators': 200, 'loss': 'lad', 'max_features': 'log2', 'subsample': 0.8}\": [12.043891018835328, 15.390137155018099], \"{'n_estimators': 200, 'loss': 'lad', 'max_features': None, 'subsample': 1}\": [10.214908141018075, 13.390520346824937], \"{'n_estimators': 100, 'loss': 'ls', 'max_features': 'sqrt', 'subsample': 0.8}\": [12.982166020990398, 15.204806596460356], \"{'n_estimators': 200, 'loss': 'lad', 'max_features': 'sqrt', 'subsample': 0.8}\": [11.048099654464126, 13.755757662265669], \"{'n_estimators': 100, 'loss': 'lad', 'max_features': 'log2', 'subsample': 0.8}\": [14.233701416409778, 16.7749936103667], \"{'n_estimators': 100, 'loss': 'lad', 'max_features': 'sqrt', 'subsample': 0.8}\": [13.005501835530506, 15.290436069199448], \"{'n_estimators': 100, 'loss': 'ls', 'max_features': 'sqrt', 'subsample': 1}\": [12.94021067940567, 14.525941616922273], \"{'n_estimators': 200, 'loss': 'ls', 'max_features': None, 'subsample': 0.8}\": [10.052965880455728, 13.185094531644001], \"{'n_estimators': 200, 'loss': 'ls', 'max_features': None, 'subsample': 1}\": [10.000222173407202, 13.274455671132268], \"{'n_estimators': 100, 'loss': 'ls', 'max_features': None, 'subsample': 0.8}\": [11.88146254100487, 14.027962714770823], \"{'n_estimators': 200, 'loss': 'lad', 'max_features': 'log2', 'subsample': 1}\": [12.174754093895599, 15.402709705222739], \"{'n_estimators': 200, 'loss': 'ls', 'max_features': 'log2', 'subsample': 1}\": [12.106518273087133, 14.97342490612302], \"{'n_estimators': 200, 'loss': 'lad', 'max_features': 'sqrt', 'subsample': 1}\": [11.048853303808038, 14.07800635629367], \"{'n_estimators': 100, 'loss': 'ls', 'max_features': None, 'subsample': 1}\": [11.817467435613397, 14.145271386007671], \"{'n_estimators': 100, 'loss': 'lad', 'max_features': None, 'subsample': 0.8}\": [12.03968388984147, 14.387902747779041], \"{'n_estimators': 100, 'loss': 'lad', 'max_features': 'sqrt', 'subsample': 1}\": [13.069394347786961, 15.279569856289699], \"{'n_estimators': 100, 'loss': 'lad', 'max_features': 'log2', 'subsample': 1}\": [14.178573313713104, 16.818498580116501], \"{'n_estimators': 100, 'loss': 'lad', 'max_features': None, 'subsample': 1}\": [12.043235565184624, 14.224952787830075], \"{'n_estimators': 200, 'loss': 'ls', 'max_features': 'log2', 'subsample': 0.8}\": [11.942447640186163, 14.784067225960403]}, \"<class 'sklearn.ensemble.forest.RandomForestRegressor'>\": {\"{'n_estimators': 50, 'max_features': 'sqrt'}\": [2.7222802941176467, 12.992922], \"{'n_estimators': 100, 'max_features': 'sqrt'}\": [2.5832316176470589, 13.048686000000002], \"{'n_estimators': 200, 'max_features': 'sqrt'}\": [2.4923719852941173, 12.8780775], \"{'n_estimators': 100, 'max_features': 'log2'}\": [3.2593777941176469, 15.224625], \"{'n_estimators': 50, 'max_features': 'log2'}\": [3.4418805882352945, 15.3828], \"{'n_estimators': 200, 'max_features': 'log2'}\": [3.1599873529411764, 15.198745499999998]}, \"<class 'sklearn.tree.tree.DecisionTreeRegressor'>\": {\"{'min_samples_split': 20, 'max_depth': 10, 'min_samples_leaf': 10}\": [10.385238460845731, 16.770517342942501], \"{'min_samples_split': 40, 'max_depth': 11, 'min_samples_leaf': 10}\": [9.5530823626499721, 16.518324817680785], \"{'min_samples_split': 40, 'max_depth': 11, 'min_samples_leaf': 20}\": [9.6875396066371859, 16.482213601932308], \"{'min_samples_split': 20, 'max_depth': 11, 'min_samples_leaf': 10}\": [9.0784873556250112, 16.499629251538316], \"{'min_samples_split': 2, 'max_depth': 11, 'min_samples_leaf': 40}\": [10.632708027192008, 16.304070195934909], \"{'min_samples_split': 2, 'max_depth': 10, 'min_samples_leaf': 40}\": [11.374541206472422, 16.622840794209647], \"{'min_samples_split': 20, 'max_depth': 11, 'min_samples_leaf': 1}\": [8.9692381107026584, 16.661293991184937], \"{'min_samples_split': 20, 'max_depth': 10, 'min_samples_leaf': 20}\": [10.731565677218549, 16.521512852739487], \"{'min_samples_split': 40, 'max_depth': 10, 'min_samples_leaf': 1}\": [10.642991902373938, 16.691980685419225], \"{'min_samples_split': 40, 'max_depth': 11, 'min_samples_leaf': 40}\": [10.632708027192006, 16.304070195934909], \"{'min_samples_split': 2, 'max_depth': 11, 'min_samples_leaf': 20}\": [9.6868088111459141, 16.513258431135359], \"{'min_samples_split': 20, 'max_depth': 11, 'min_samples_leaf': 40}\": [10.636459011529043, 16.305131608978389], \"{'min_samples_split': 40, 'max_depth': 10, 'min_samples_leaf': 40}\": [11.371555473573668, 16.652477519319699], \"{'min_samples_split': 2, 'max_depth': 10, 'min_samples_leaf': 1}\": [10.114177971842444, 16.728963980336943], \"{'min_samples_split': 20, 'max_depth': 10, 'min_samples_leaf': 40}\": [11.373696668657296, 16.651416106276223], \"{'min_samples_split': 20, 'max_depth': 10, 'min_samples_leaf': 1}\": [10.318634701909804, 16.809147975655446], \"{'min_samples_split': 20, 'max_depth': 11, 'min_samples_leaf': 20}\": [9.6868088111459141, 16.445482699125439], \"{'min_samples_split': 40, 'max_depth': 10, 'min_samples_leaf': 20}\": [10.731565677218549, 16.515345709882347], \"{'min_samples_split': 2, 'max_depth': 11, 'min_samples_leaf': 10}\": [9.0785889374342084, 16.547931441902207], \"{'min_samples_split': 40, 'max_depth': 10, 'min_samples_leaf': 10}\": [10.682509667815232, 16.663506773477224], \"{'min_samples_split': 40, 'max_depth': 11, 'min_samples_leaf': 1}\": [9.4821985907014845, 16.464790376907164], \"{'min_samples_split': 2, 'max_depth': 10, 'min_samples_leaf': 20}\": [10.731565677218549, 16.565348584749415], \"{'min_samples_split': 2, 'max_depth': 11, 'min_samples_leaf': 1}\": [8.5432223454975453, 16.703584812934288], \"{'min_samples_split': 2, 'max_depth': 10, 'min_samples_leaf': 10}\": [10.384851221614374, 16.704931900699325]}, \"<class 'sklearn.neighbors.regression.KNeighborsRegressor'>\": {\"{'n_neighbors': 20, 'n_jobs': -1, 'weights': 'distance'}\": [0.0, 18.684803319697085], \"{'n_neighbors': 10, 'n_jobs': -1, 'weights': 'distance'}\": [0.0, 18.574967100955813], \"{'n_neighbors': 20, 'n_jobs': -1, 'weights': 'uniform'}\": [11.183631617647059, 18.722384999999999], \"{'n_neighbors': 5, 'n_jobs': -1, 'weights': 'uniform'}\": [3.3331235294117647, 18.860399999999998], \"{'n_neighbors': 10, 'n_jobs': -1, 'weights': 'uniform'}\": [6.8501514705882354, 18.59517], \"{'n_neighbors': 5, 'n_jobs': -1, 'weights': 'distance'}\": [0.0, 18.852318050934013]}}\n"
     ]
    }
   ],
   "source": [
    "model_grid = [{\n",
    "            \"model\": DecisionTreeRegressor,\n",
    "            \"params\": {'max_depth': range(10, 12),\n",
    "                       'min_samples_leaf': [1, 50, 100],\n",
    "                       'min_samples_split': [2, 50, 100]}\n",
    "            },\n",
    "            {\n",
    "            \"model\": RandomForestRegressor,\n",
    "            \"params\": {'n_estimators': [50, 100, 200],\n",
    "                       'max_features': ['sqrt', 'log2']}\n",
    "            },\n",
    "            {\n",
    "            \"model\": GradientBoostingRegressor,\n",
    "            \"params\": {'loss': ['ls', 'lad'],\n",
    "                       'n_estimators': [100, 200],\n",
    "                       'subsample': [0.8, 1],\n",
    "                       'max_features': [None, 'sqrt', 'log2']}\n",
    "            },\n",
    "            {\n",
    "            \"model\": KNeighborsRegressor,\n",
    "            \"params\": {'n_neighbors': [5, 10, 20],\n",
    "                       'weights': ['uniform', 'distance'],\n",
    "                       'n_jobs': [-1]}\n",
    "            }]\n",
    "\n",
    "print grid_search(X, y_e, X_val, y_val_e, mean_absolute_error, model_grid)"
   ]
  },
  {
   "cell_type": "code",
   "execution_count": 9,
   "metadata": {
    "collapsed": false
   },
   "outputs": [
    {
     "name": "stdout",
     "output_type": "stream",
     "text": [
      "18.8523180509\n"
     ]
    }
   ],
   "source": [
    "from sklearn.neighbors import KNeighborsRegressor\n",
    "# Does it help KNN?\n",
    "knn_regr = KNeighborsRegressor(n_neighbors=5, weights='distance', n_jobs=-1)\n",
    "knn_regr.fit(X, y_e)\n",
    "# Predict\n",
    "y_pred_e = knn_regr.predict(X_val)\n",
    "loss = mean_absolute_error(y_val_e, y_pred_e)\n",
    "\n",
    "print loss"
   ]
  },
  {
   "cell_type": "code",
   "execution_count": null,
   "metadata": {
    "collapsed": false
   },
   "outputs": [],
   "source": [
    "depth = 10\n",
    "params = [max_depth=depth]\n",
    "regr = DecisionTreeRegressor()\n",
    "regr.fit(X, y_e)\n",
    "# Predict\n",
    "y_pred_e = regr.predict(X_test)\n",
    "loss = mean_absolute_error(y_test_e, y_pred_e)\n",
    "\n",
    "print loss"
   ]
  },
  {
   "cell_type": "code",
   "execution_count": null,
   "metadata": {
    "collapsed": false
   },
   "outputs": [],
   "source": [
    "# Build dataframe to compare real values with predictions on test set\n",
    "y_test = pd.Series(y_test_e, index=test.index)\n",
    "y_pred = pd.Series(y_pred_e, index=test.index)\n",
    "new_df = pd.concat([y_test, y_pred, test.ix[:, -3:]], axis=1)\n",
    "new_df.to_csv('results/regtree15_all_features.csv')"
   ]
  },
  {
   "cell_type": "code",
   "execution_count": null,
   "metadata": {
    "collapsed": false
   },
   "outputs": [],
   "source": [
    "# Regression Random Forest\n",
    "forest = RandomForestRegressor(n_estimators=100, max_features='sqrt')\n",
    "forest.fit(X, y_e)\n",
    "# Predict\n",
    "y_pred_e = forest.predict(X_test)\n",
    "loss = mean_absolute_error(y_test_e, y_pred_e)\n",
    "\n",
    "print loss"
   ]
  },
  {
   "cell_type": "code",
   "execution_count": null,
   "metadata": {
    "collapsed": false
   },
   "outputs": [],
   "source": [
    "# Regression Random Forest\n",
    "forest_azimuth = RandomForestRegressor(n_estimators=100, max_features='sqrt')\n",
    "forest_azimuth.fit(X, y_a)\n",
    "# Predict\n",
    "y_pred_a = forest_azimuth.predict(X_test)\n",
    "loss = loss_azimuth(y_test_a, y_pred_a)\n",
    "\n",
    "print loss"
   ]
  },
  {
   "cell_type": "markdown",
   "metadata": {},
   "source": [
    "27.9457466667"
   ]
  },
  {
   "cell_type": "code",
   "execution_count": null,
   "metadata": {
    "collapsed": true
   },
   "outputs": [],
   "source": [
    "forest_azimuth."
   ]
  },
  {
   "cell_type": "code",
   "execution_count": null,
   "metadata": {
    "collapsed": false
   },
   "outputs": [],
   "source": [
    "importances = pd.Series(regr.feature_importances_, index=ds_3.columns[:-3])"
   ]
  },
  {
   "cell_type": "code",
   "execution_count": null,
   "metadata": {
    "collapsed": false
   },
   "outputs": [],
   "source": [
    "clf = Lasso(alpha=0.1)\n",
    "clf.fit(X, y_e)\n",
    "# Predict\n",
    "y_pred_e = clf.predict(X_test)\n",
    "loss = mean_absolute_error(y_test_e, y_pred_e)\n",
    "\n",
    "print loss"
   ]
  },
  {
   "cell_type": "code",
   "execution_count": null,
   "metadata": {
    "collapsed": false
   },
   "outputs": [],
   "source": [
    "coef = clf.coef_"
   ]
  },
  {
   "cell_type": "code",
   "execution_count": null,
   "metadata": {
    "collapsed": false
   },
   "outputs": [],
   "source": [
    "plt.figure(figsize=(7, 7))\n",
    "plt.plot(range(len(coef)), coef)\n",
    "print train.columns\n",
    "plt.title('Coefficients')\n",
    "plt.show()"
   ]
  },
  {
   "cell_type": "code",
   "execution_count": null,
   "metadata": {
    "collapsed": true
   },
   "outputs": [],
   "source": [
    "# Build dataframe to compare real values with predictions on test set\n",
    "y_test = pd.Series(y_test_e, index=test.index)\n",
    "y_pred = pd.Series(y_pred_e, index=test.index)\n",
    "new_df = pd.concat([y_test, y_pred, test.ix[:, -3:]], axis=1)\n",
    "new_df.to_csv('results/lasso_all_features.csv')"
   ]
  },
  {
   "cell_type": "code",
   "execution_count": null,
   "metadata": {
    "collapsed": true
   },
   "outputs": [],
   "source": []
  }
 ],
 "metadata": {
  "kernelspec": {
   "display_name": "Python 2",
   "language": "python",
   "name": "python2"
  },
  "language_info": {
   "codemirror_mode": {
    "name": "ipython",
    "version": 2
   },
   "file_extension": ".py",
   "mimetype": "text/x-python",
   "name": "python",
   "nbconvert_exporter": "python",
   "pygments_lexer": "ipython2",
   "version": "2.7.11"
  }
 },
 "nbformat": 4,
 "nbformat_minor": 0
}
