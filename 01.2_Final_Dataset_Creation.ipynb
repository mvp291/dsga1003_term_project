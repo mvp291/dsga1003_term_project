{
 "cells": [
  {
   "cell_type": "markdown",
   "metadata": {},
   "source": [
    "## Initial data transformation and processing"
   ]
  },
  {
   "cell_type": "code",
   "execution_count": 19,
   "metadata": {
    "collapsed": false
   },
   "outputs": [],
   "source": [
    "import scipy.io as sio\n",
    "import numpy as np\n",
    "import pandas as pd\n",
    "import matplotlib.pyplot as plt\n",
    "from sklearn.tree import DecisionTreeRegressor, DecisionTreeClassifier, export_graphviz\n",
    "from sklearn.metrics import mean_absolute_error\n",
    "from math import ceil\n",
    "\n",
    "import utils as ut\n",
    "reload(ut)\n",
    "%matplotlib inline"
   ]
  },
  {
   "cell_type": "code",
   "execution_count": 4,
   "metadata": {
    "collapsed": false
   },
   "outputs": [],
   "source": [
    "data_array = sio.loadmat('data/DATASET.mat')['DATASET']"
   ]
  },
  {
   "cell_type": "markdown",
   "metadata": {},
   "source": [
    "We'll keep only HRIRs and HRTFs"
   ]
  },
  {
   "cell_type": "code",
   "execution_count": 5,
   "metadata": {
    "collapsed": false
   },
   "outputs": [],
   "source": [
    "# Get only real part\n",
    "data_float = data_array.copy().real.astype(float)\n",
    "# Array with all variables as float\n",
    "all_float_array = np.hstack((data_float[:, :596], data_float[:, 996:]))"
   ]
  },
  {
   "cell_type": "code",
   "execution_count": 6,
   "metadata": {
    "collapsed": false
   },
   "outputs": [
    {
     "name": "stdout",
     "output_type": "stream",
     "text": [
      "original dataset shape: (65600, 1039)\n",
      "all floats dataset shape: (65600, 639)\n"
     ]
    }
   ],
   "source": [
    "# Imaginary components are now separated\n",
    "print 'original dataset shape:', data_array.shape\n",
    "print 'all floats dataset shape:', all_float_array.shape"
   ]
  },
  {
   "cell_type": "markdown",
   "metadata": {
    "collapsed": false
   },
   "source": [
    "Now we will include feature names:"
   ]
  },
  {
   "cell_type": "code",
   "execution_count": 7,
   "metadata": {
    "collapsed": false
   },
   "outputs": [],
   "source": [
    "def define_column_names():\n",
    "    column_names = []\n",
    "    # Time series\n",
    "    for i in range(200):\n",
    "        column_names.append('L_HRIR_{:d}'.format(i))\n",
    "    for i in range(200):\n",
    "        column_names.append('R_HRIR_{:d}'.format(i))\n",
    "\n",
    "    # Frequency Series\n",
    "    for i in range(98):\n",
    "        column_names.append('L_HRTF_{:d}'.format(i))\n",
    "    for i in range(98):\n",
    "        column_names.append('R_HRTF_{:d}'.format(i))\n",
    "\n",
    "    # Interaction Parameters\n",
    "    # Time-arrival Difference\n",
    "    column_names.append('ITD')\n",
    "    # Intensity Difference\n",
    "    column_names.append('IID')\n",
    "    # Spectral Difference\n",
    "    column_names.append('DS')\n",
    "    # Head Parameters\n",
    "    column_names.append('head_width')\n",
    "    column_names.append('head_height')\n",
    "    column_names.append('head_depth')\n",
    "    column_names.append('pinna_offset_down')\n",
    "    column_names.append('pinna_offset_back')\n",
    "    column_names.append('neck_width')\n",
    "    column_names.append('neck_height')\n",
    "    column_names.append('neck_depth')\n",
    "    column_names.append('torso_top_width')\n",
    "    column_names.append('torso_top_heigth')\n",
    "    column_names.append('torso_top_depth')\n",
    "    column_names.append('shoulder_width')\n",
    "    column_names.append('head_offset_forward')\n",
    "    column_names.append('height')\n",
    "    column_names.append('seated_height')\n",
    "    column_names.append('head_circumference ')\n",
    "    column_names.append('shoulder_circumference')\n",
    "\n",
    "    # Ear Parameters\n",
    "    column_names.append('L_cavum_concha_heigth')\n",
    "    column_names.append('L_cymba_concha_heigth')\n",
    "    column_names.append('L_cavum_concha_width')\n",
    "    column_names.append('L_fossa_height')\n",
    "    column_names.append('L_pinna_height')\n",
    "    column_names.append('L_pinna_width')\n",
    "    column_names.append('L_intertragal_incisure_width')\n",
    "    column_names.append('L_cavum_concha_depth')\n",
    "    column_names.append('R_cavum_concha_heigth')\n",
    "    column_names.append('R_cymba_concha_heigth')\n",
    "    column_names.append('R_cavum_concha_width')\n",
    "    column_names.append('R_fossa_height')\n",
    "    column_names.append('R_pinna_height')\n",
    "    column_names.append('R_pinna_width')\n",
    "    column_names.append('R_intertragaR_incisure_width')\n",
    "    column_names.append('R_cavum_concha_depth')\n",
    "\n",
    "    # Pinnae Rotation Parameters\n",
    "    column_names.append('L_pinna_rotation_angle')\n",
    "    column_names.append('L_pinna_flare_angle')\n",
    "    column_names.append('R_pinna_rotation_angle')\n",
    "    column_names.append('R_pinna_flare_angle')\n",
    "\n",
    "    # Target\n",
    "    column_names.append('azimuth')\n",
    "    column_names.append('elevation')\n",
    "\n",
    "    # Subject Id\n",
    "    column_names.append('subject_id')\n",
    "    return column_names"
   ]
  },
  {
   "cell_type": "code",
   "execution_count": 8,
   "metadata": {
    "collapsed": false
   },
   "outputs": [],
   "source": [
    "column_names = define_column_names()"
   ]
  },
  {
   "cell_type": "code",
   "execution_count": 9,
   "metadata": {
    "collapsed": false
   },
   "outputs": [],
   "source": [
    "# Build Pandas DataFrame\n",
    "df = pd.DataFrame(all_float_array, columns=column_names)"
   ]
  },
  {
   "cell_type": "code",
   "execution_count": 10,
   "metadata": {
    "collapsed": false
   },
   "outputs": [],
   "source": [
    "# col_ix Dictionary can be used to get the index of any feature\n",
    "col_ix = {}\n",
    "for i, col in enumerate(df.columns):\n",
    "    col_ix[col] = i"
   ]
  },
  {
   "cell_type": "code",
   "execution_count": 11,
   "metadata": {
    "collapsed": false
   },
   "outputs": [
    {
     "data": {
      "text/plain": [
       "639"
      ]
     },
     "execution_count": 11,
     "metadata": {},
     "output_type": "execute_result"
    }
   ],
   "source": [
    "# Should match the number of colums in dataset\n",
    "len(column_names)"
   ]
  },
  {
   "cell_type": "markdown",
   "metadata": {},
   "source": [
    "Full dataset contains data from two original datasets.\n",
    "\n",
    "For the moment we will work with the first dataset only."
   ]
  },
  {
   "cell_type": "code",
   "execution_count": 12,
   "metadata": {
    "collapsed": false
   },
   "outputs": [
    {
     "data": {
      "text/plain": [
       "(56250, 639)"
      ]
     },
     "execution_count": 12,
     "metadata": {},
     "output_type": "execute_result"
    }
   ],
   "source": [
    "ds_1 = df.ix[:56249].copy()\n",
    "ds_1.shape"
   ]
  },
  {
   "cell_type": "code",
   "execution_count": 25,
   "metadata": {
    "collapsed": false
   },
   "outputs": [
    {
     "data": {
      "text/plain": [
       "array([ 1,  2,  3,  4,  5,  6,  7,  8,  9, 10, 11, 12, 13, 14, 15, 16, 17,\n",
       "       18, 19, 20, 21, 22, 23, 24, 25, 26, 27, 28, 29, 30, 31, 32, 33, 34,\n",
       "       35, 36, 37, 38, 39, 40, 41, 42, 43, 44, 45])"
      ]
     },
     "execution_count": 25,
     "metadata": {},
     "output_type": "execute_result"
    }
   ],
   "source": [
    "# TOTAL Unique Subjects for dataset 1 = 45\n",
    "ds_1.loc[:, ('subject_id')] = ds_1['subject_id'].astype(int)\n",
    "ds_1.subject_id.unique()"
   ]
  },
  {
   "cell_type": "markdown",
   "metadata": {
    "collapsed": true
   },
   "source": [
    "## Include all original features"
   ]
  },
  {
   "cell_type": "code",
   "execution_count": 28,
   "metadata": {
    "collapsed": false
   },
   "outputs": [],
   "source": [
    "# Include all features\n",
    "ds_2 = ds_1.copy()\n",
    "n = 45\n",
    "\n",
    "# Substitute missing values with feature mean\n",
    "means = ds_2.mean(axis=0)\n",
    "ds_2 = ds_2.fillna(means)"
   ]
  },
  {
   "cell_type": "code",
   "execution_count": 29,
   "metadata": {
    "collapsed": false
   },
   "outputs": [
    {
     "data": {
      "text/plain": [
       "(56250, 639)"
      ]
     },
     "execution_count": 29,
     "metadata": {},
     "output_type": "execute_result"
    }
   ],
   "source": [
    "ds_2.shape"
   ]
  },
  {
   "cell_type": "markdown",
   "metadata": {},
   "source": [
    "## Include some additional features\n",
    "We decided to incorporate some additional statistics for the series data (min, max, mean values) these could help in cases where subject variation distrurbs the series."
   ]
  },
  {
   "cell_type": "code",
   "execution_count": 35,
   "metadata": {
    "collapsed": false
   },
   "outputs": [
    {
     "data": {
      "text/html": [
       "<div>\n",
       "<table border=\"1\" class=\"dataframe\">\n",
       "  <thead>\n",
       "    <tr style=\"text-align: right;\">\n",
       "      <th></th>\n",
       "      <th>L_HRIR_min</th>\n",
       "      <th>L_HRIR_max</th>\n",
       "      <th>L_HRIR_mean</th>\n",
       "      <th>R_HRIR_min</th>\n",
       "      <th>R_HRIR_max</th>\n",
       "      <th>R_HRIR_mean</th>\n",
       "      <th>L_HRTF_min</th>\n",
       "      <th>L_HRTF_max</th>\n",
       "      <th>L_HRTF_mean</th>\n",
       "      <th>R_HRTF_min</th>\n",
       "      <th>R_HRTF_max</th>\n",
       "      <th>R_HRTF_mean</th>\n",
       "      <th>elevation</th>\n",
       "      <th>azimuth</th>\n",
       "      <th>subject_id</th>\n",
       "    </tr>\n",
       "  </thead>\n",
       "  <tbody>\n",
       "    <tr>\n",
       "      <th>L_HRIR_min</th>\n",
       "      <td>1.000000</td>\n",
       "      <td>-0.807259</td>\n",
       "      <td>-0.013108</td>\n",
       "      <td>-0.577965</td>\n",
       "      <td>0.642880</td>\n",
       "      <td>0.303125</td>\n",
       "      <td>-0.671333</td>\n",
       "      <td>-0.815561</td>\n",
       "      <td>-0.824445</td>\n",
       "      <td>0.559807</td>\n",
       "      <td>0.634257</td>\n",
       "      <td>0.676561</td>\n",
       "      <td>-0.108868</td>\n",
       "      <td>0.593286</td>\n",
       "      <td>0.040338</td>\n",
       "    </tr>\n",
       "    <tr>\n",
       "      <th>L_HRIR_max</th>\n",
       "      <td>-0.807259</td>\n",
       "      <td>1.000000</td>\n",
       "      <td>-0.109835</td>\n",
       "      <td>0.647182</td>\n",
       "      <td>-0.596078</td>\n",
       "      <td>-0.451983</td>\n",
       "      <td>0.609885</td>\n",
       "      <td>0.714480</td>\n",
       "      <td>0.777328</td>\n",
       "      <td>-0.662731</td>\n",
       "      <td>-0.787563</td>\n",
       "      <td>-0.799674</td>\n",
       "      <td>-0.095106</td>\n",
       "      <td>-0.674137</td>\n",
       "      <td>-0.014076</td>\n",
       "    </tr>\n",
       "    <tr>\n",
       "      <th>L_HRIR_mean</th>\n",
       "      <td>-0.013108</td>\n",
       "      <td>-0.109835</td>\n",
       "      <td>1.000000</td>\n",
       "      <td>0.201306</td>\n",
       "      <td>-0.337961</td>\n",
       "      <td>0.828242</td>\n",
       "      <td>0.220822</td>\n",
       "      <td>0.310865</td>\n",
       "      <td>0.268016</td>\n",
       "      <td>0.003543</td>\n",
       "      <td>0.103978</td>\n",
       "      <td>0.026793</td>\n",
       "      <td>0.183550</td>\n",
       "      <td>-0.073317</td>\n",
       "      <td>-0.021620</td>\n",
       "    </tr>\n",
       "    <tr>\n",
       "      <th>R_HRIR_min</th>\n",
       "      <td>-0.577965</td>\n",
       "      <td>0.647182</td>\n",
       "      <td>0.201306</td>\n",
       "      <td>1.000000</td>\n",
       "      <td>-0.802116</td>\n",
       "      <td>-0.131083</td>\n",
       "      <td>0.544337</td>\n",
       "      <td>0.633188</td>\n",
       "      <td>0.673452</td>\n",
       "      <td>-0.685272</td>\n",
       "      <td>-0.812686</td>\n",
       "      <td>-0.822949</td>\n",
       "      <td>-0.115765</td>\n",
       "      <td>-0.557336</td>\n",
       "      <td>-0.005584</td>\n",
       "    </tr>\n",
       "    <tr>\n",
       "      <th>R_HRIR_max</th>\n",
       "      <td>0.642880</td>\n",
       "      <td>-0.596078</td>\n",
       "      <td>-0.337961</td>\n",
       "      <td>-0.802116</td>\n",
       "      <td>1.000000</td>\n",
       "      <td>0.028877</td>\n",
       "      <td>-0.642198</td>\n",
       "      <td>-0.780938</td>\n",
       "      <td>-0.786043</td>\n",
       "      <td>0.627887</td>\n",
       "      <td>0.715531</td>\n",
       "      <td>0.779828</td>\n",
       "      <td>-0.097351</td>\n",
       "      <td>0.617118</td>\n",
       "      <td>0.006112</td>\n",
       "    </tr>\n",
       "    <tr>\n",
       "      <th>R_HRIR_mean</th>\n",
       "      <td>0.303125</td>\n",
       "      <td>-0.451983</td>\n",
       "      <td>0.828242</td>\n",
       "      <td>-0.131083</td>\n",
       "      <td>0.028877</td>\n",
       "      <td>1.000000</td>\n",
       "      <td>-0.064818</td>\n",
       "      <td>-0.033838</td>\n",
       "      <td>-0.088306</td>\n",
       "      <td>0.289363</td>\n",
       "      <td>0.420687</td>\n",
       "      <td>0.366289</td>\n",
       "      <td>0.172434</td>\n",
       "      <td>0.263761</td>\n",
       "      <td>-0.050304</td>\n",
       "    </tr>\n",
       "    <tr>\n",
       "      <th>L_HRTF_min</th>\n",
       "      <td>-0.671333</td>\n",
       "      <td>0.609885</td>\n",
       "      <td>0.220822</td>\n",
       "      <td>0.544337</td>\n",
       "      <td>-0.642198</td>\n",
       "      <td>-0.064818</td>\n",
       "      <td>1.000000</td>\n",
       "      <td>0.740019</td>\n",
       "      <td>0.851818</td>\n",
       "      <td>-0.411041</td>\n",
       "      <td>-0.510029</td>\n",
       "      <td>-0.530488</td>\n",
       "      <td>0.045687</td>\n",
       "      <td>-0.500875</td>\n",
       "      <td>-0.028935</td>\n",
       "    </tr>\n",
       "    <tr>\n",
       "      <th>L_HRTF_max</th>\n",
       "      <td>-0.815561</td>\n",
       "      <td>0.714480</td>\n",
       "      <td>0.310865</td>\n",
       "      <td>0.633188</td>\n",
       "      <td>-0.780938</td>\n",
       "      <td>-0.033838</td>\n",
       "      <td>0.740019</td>\n",
       "      <td>1.000000</td>\n",
       "      <td>0.929100</td>\n",
       "      <td>-0.533124</td>\n",
       "      <td>-0.551752</td>\n",
       "      <td>-0.638753</td>\n",
       "      <td>0.087543</td>\n",
       "      <td>-0.575831</td>\n",
       "      <td>-0.050527</td>\n",
       "    </tr>\n",
       "    <tr>\n",
       "      <th>L_HRTF_mean</th>\n",
       "      <td>-0.824445</td>\n",
       "      <td>0.777328</td>\n",
       "      <td>0.268016</td>\n",
       "      <td>0.673452</td>\n",
       "      <td>-0.786043</td>\n",
       "      <td>-0.088306</td>\n",
       "      <td>0.851818</td>\n",
       "      <td>0.929100</td>\n",
       "      <td>1.000000</td>\n",
       "      <td>-0.546399</td>\n",
       "      <td>-0.633950</td>\n",
       "      <td>-0.674138</td>\n",
       "      <td>0.044415</td>\n",
       "      <td>-0.609915</td>\n",
       "      <td>-0.018735</td>\n",
       "    </tr>\n",
       "    <tr>\n",
       "      <th>R_HRTF_min</th>\n",
       "      <td>0.559807</td>\n",
       "      <td>-0.662731</td>\n",
       "      <td>0.003543</td>\n",
       "      <td>-0.685272</td>\n",
       "      <td>0.627887</td>\n",
       "      <td>0.289363</td>\n",
       "      <td>-0.411041</td>\n",
       "      <td>-0.533124</td>\n",
       "      <td>-0.546399</td>\n",
       "      <td>1.000000</td>\n",
       "      <td>0.746285</td>\n",
       "      <td>0.859477</td>\n",
       "      <td>0.052693</td>\n",
       "      <td>0.518223</td>\n",
       "      <td>0.029157</td>\n",
       "    </tr>\n",
       "    <tr>\n",
       "      <th>R_HRTF_max</th>\n",
       "      <td>0.634257</td>\n",
       "      <td>-0.787563</td>\n",
       "      <td>0.103978</td>\n",
       "      <td>-0.812686</td>\n",
       "      <td>0.715531</td>\n",
       "      <td>0.420687</td>\n",
       "      <td>-0.510029</td>\n",
       "      <td>-0.551752</td>\n",
       "      <td>-0.633950</td>\n",
       "      <td>0.746285</td>\n",
       "      <td>1.000000</td>\n",
       "      <td>0.928643</td>\n",
       "      <td>0.089070</td>\n",
       "      <td>0.582481</td>\n",
       "      <td>0.004226</td>\n",
       "    </tr>\n",
       "    <tr>\n",
       "      <th>R_HRTF_mean</th>\n",
       "      <td>0.676561</td>\n",
       "      <td>-0.799674</td>\n",
       "      <td>0.026793</td>\n",
       "      <td>-0.822949</td>\n",
       "      <td>0.779828</td>\n",
       "      <td>0.366289</td>\n",
       "      <td>-0.530488</td>\n",
       "      <td>-0.638753</td>\n",
       "      <td>-0.674138</td>\n",
       "      <td>0.859477</td>\n",
       "      <td>0.928643</td>\n",
       "      <td>1.000000</td>\n",
       "      <td>0.045767</td>\n",
       "      <td>0.616256</td>\n",
       "      <td>0.041350</td>\n",
       "    </tr>\n",
       "    <tr>\n",
       "      <th>elevation</th>\n",
       "      <td>-0.108868</td>\n",
       "      <td>-0.095106</td>\n",
       "      <td>0.183550</td>\n",
       "      <td>-0.115765</td>\n",
       "      <td>-0.097351</td>\n",
       "      <td>0.172434</td>\n",
       "      <td>0.045687</td>\n",
       "      <td>0.087543</td>\n",
       "      <td>0.044415</td>\n",
       "      <td>0.052693</td>\n",
       "      <td>0.089070</td>\n",
       "      <td>0.045767</td>\n",
       "      <td>1.000000</td>\n",
       "      <td>0.002299</td>\n",
       "      <td>0.000000</td>\n",
       "    </tr>\n",
       "    <tr>\n",
       "      <th>azimuth</th>\n",
       "      <td>0.593286</td>\n",
       "      <td>-0.674137</td>\n",
       "      <td>-0.073317</td>\n",
       "      <td>-0.557336</td>\n",
       "      <td>0.617118</td>\n",
       "      <td>0.263761</td>\n",
       "      <td>-0.500875</td>\n",
       "      <td>-0.575831</td>\n",
       "      <td>-0.609915</td>\n",
       "      <td>0.518223</td>\n",
       "      <td>0.582481</td>\n",
       "      <td>0.616256</td>\n",
       "      <td>0.002299</td>\n",
       "      <td>1.000000</td>\n",
       "      <td>0.000000</td>\n",
       "    </tr>\n",
       "    <tr>\n",
       "      <th>subject_id</th>\n",
       "      <td>0.040338</td>\n",
       "      <td>-0.014076</td>\n",
       "      <td>-0.021620</td>\n",
       "      <td>-0.005584</td>\n",
       "      <td>0.006112</td>\n",
       "      <td>-0.050304</td>\n",
       "      <td>-0.028935</td>\n",
       "      <td>-0.050527</td>\n",
       "      <td>-0.018735</td>\n",
       "      <td>0.029157</td>\n",
       "      <td>0.004226</td>\n",
       "      <td>0.041350</td>\n",
       "      <td>0.000000</td>\n",
       "      <td>0.000000</td>\n",
       "      <td>1.000000</td>\n",
       "    </tr>\n",
       "  </tbody>\n",
       "</table>\n",
       "</div>"
      ],
      "text/plain": [
       "             L_HRIR_min  L_HRIR_max  L_HRIR_mean  R_HRIR_min  R_HRIR_max  \\\n",
       "L_HRIR_min     1.000000   -0.807259    -0.013108   -0.577965    0.642880   \n",
       "L_HRIR_max    -0.807259    1.000000    -0.109835    0.647182   -0.596078   \n",
       "L_HRIR_mean   -0.013108   -0.109835     1.000000    0.201306   -0.337961   \n",
       "R_HRIR_min    -0.577965    0.647182     0.201306    1.000000   -0.802116   \n",
       "R_HRIR_max     0.642880   -0.596078    -0.337961   -0.802116    1.000000   \n",
       "R_HRIR_mean    0.303125   -0.451983     0.828242   -0.131083    0.028877   \n",
       "L_HRTF_min    -0.671333    0.609885     0.220822    0.544337   -0.642198   \n",
       "L_HRTF_max    -0.815561    0.714480     0.310865    0.633188   -0.780938   \n",
       "L_HRTF_mean   -0.824445    0.777328     0.268016    0.673452   -0.786043   \n",
       "R_HRTF_min     0.559807   -0.662731     0.003543   -0.685272    0.627887   \n",
       "R_HRTF_max     0.634257   -0.787563     0.103978   -0.812686    0.715531   \n",
       "R_HRTF_mean    0.676561   -0.799674     0.026793   -0.822949    0.779828   \n",
       "elevation     -0.108868   -0.095106     0.183550   -0.115765   -0.097351   \n",
       "azimuth        0.593286   -0.674137    -0.073317   -0.557336    0.617118   \n",
       "subject_id     0.040338   -0.014076    -0.021620   -0.005584    0.006112   \n",
       "\n",
       "             R_HRIR_mean  L_HRTF_min  L_HRTF_max  L_HRTF_mean  R_HRTF_min  \\\n",
       "L_HRIR_min      0.303125   -0.671333   -0.815561    -0.824445    0.559807   \n",
       "L_HRIR_max     -0.451983    0.609885    0.714480     0.777328   -0.662731   \n",
       "L_HRIR_mean     0.828242    0.220822    0.310865     0.268016    0.003543   \n",
       "R_HRIR_min     -0.131083    0.544337    0.633188     0.673452   -0.685272   \n",
       "R_HRIR_max      0.028877   -0.642198   -0.780938    -0.786043    0.627887   \n",
       "R_HRIR_mean     1.000000   -0.064818   -0.033838    -0.088306    0.289363   \n",
       "L_HRTF_min     -0.064818    1.000000    0.740019     0.851818   -0.411041   \n",
       "L_HRTF_max     -0.033838    0.740019    1.000000     0.929100   -0.533124   \n",
       "L_HRTF_mean    -0.088306    0.851818    0.929100     1.000000   -0.546399   \n",
       "R_HRTF_min      0.289363   -0.411041   -0.533124    -0.546399    1.000000   \n",
       "R_HRTF_max      0.420687   -0.510029   -0.551752    -0.633950    0.746285   \n",
       "R_HRTF_mean     0.366289   -0.530488   -0.638753    -0.674138    0.859477   \n",
       "elevation       0.172434    0.045687    0.087543     0.044415    0.052693   \n",
       "azimuth         0.263761   -0.500875   -0.575831    -0.609915    0.518223   \n",
       "subject_id     -0.050304   -0.028935   -0.050527    -0.018735    0.029157   \n",
       "\n",
       "             R_HRTF_max  R_HRTF_mean  elevation   azimuth  subject_id  \n",
       "L_HRIR_min     0.634257     0.676561  -0.108868  0.593286    0.040338  \n",
       "L_HRIR_max    -0.787563    -0.799674  -0.095106 -0.674137   -0.014076  \n",
       "L_HRIR_mean    0.103978     0.026793   0.183550 -0.073317   -0.021620  \n",
       "R_HRIR_min    -0.812686    -0.822949  -0.115765 -0.557336   -0.005584  \n",
       "R_HRIR_max     0.715531     0.779828  -0.097351  0.617118    0.006112  \n",
       "R_HRIR_mean    0.420687     0.366289   0.172434  0.263761   -0.050304  \n",
       "L_HRTF_min    -0.510029    -0.530488   0.045687 -0.500875   -0.028935  \n",
       "L_HRTF_max    -0.551752    -0.638753   0.087543 -0.575831   -0.050527  \n",
       "L_HRTF_mean   -0.633950    -0.674138   0.044415 -0.609915   -0.018735  \n",
       "R_HRTF_min     0.746285     0.859477   0.052693  0.518223    0.029157  \n",
       "R_HRTF_max     1.000000     0.928643   0.089070  0.582481    0.004226  \n",
       "R_HRTF_mean    0.928643     1.000000   0.045767  0.616256    0.041350  \n",
       "elevation      0.089070     0.045767   1.000000  0.002299    0.000000  \n",
       "azimuth        0.582481     0.616256   0.002299  1.000000    0.000000  \n",
       "subject_id     0.004226     0.041350   0.000000  0.000000    1.000000  "
      ]
     },
     "execution_count": 35,
     "metadata": {},
     "output_type": "execute_result"
    }
   ],
   "source": [
    "# Include all features\n",
    "ds = ds_2.copy()\n",
    "ds_3 = ds_2.copy()\n",
    "n = 45\n",
    "\n",
    "sides = ['L', 'R']\n",
    "features = ['HRIR', 'HRTF']\n",
    "features_length = [200, 98]\n",
    "\n",
    "ds_3.drop('elevation', axis=1, inplace=True)\n",
    "ds_3.drop('azimuth', axis=1, inplace=True)\n",
    "ds_3.drop('subject_id', axis=1, inplace=True)\n",
    "\n",
    "for i, feature in enumerate(features):\n",
    "    for side in sides:\n",
    "        feature_name = side + '_' + feature\n",
    "        feature_name_first = feature_name + '_0'\n",
    "        range_feature = range(col_ix[feature_name_first], col_ix[feature_name_first] + features_length[i])\n",
    "        min_summ = ds_3.ix[:, range_feature].min(axis=1)\n",
    "        max_summ = ds_3.ix[:, range_feature].max(axis=1)\n",
    "        mean_summ = ds_3.ix[:, range_feature].mean(axis=1)\n",
    "        ds_3[feature_name + '_min'] = min_summ\n",
    "        ds_3[feature_name + '_max'] = max_summ\n",
    "        ds_3[feature_name + '_mean'] = mean_summ\n",
    "        \n",
    "ds_3['elevation'] = ds_2['elevation']\n",
    "ds_3['azimuth'] = ds_2['azimuth']\n",
    "ds_3['subject_id'] = ds_2['subject_id']\n",
    "\n",
    "ds_3.ix[:, -15:].corr()"
   ]
  },
  {
   "cell_type": "markdown",
   "metadata": {},
   "source": [
    "We identified high correlation values with azimuth, so this should help us improve our baseline model in this prediction task."
   ]
  },
  {
   "cell_type": "code",
   "execution_count": 31,
   "metadata": {
    "collapsed": false
   },
   "outputs": [],
   "source": [
    "train, val, test = ut.get_splitted_dataset(ds_3)"
   ]
  },
  {
   "cell_type": "code",
   "execution_count": 33,
   "metadata": {
    "collapsed": true
   },
   "outputs": [],
   "source": [
    "# Write .csv for each set\n",
    "train.to_csv('data/full_train.csv')\n",
    "val.to_csv('data/full_val.csv')\n",
    "test.to_csv('data/full_test.csv')"
   ]
  },
  {
   "cell_type": "code",
   "execution_count": 32,
   "metadata": {
    "collapsed": false
   },
   "outputs": [
    {
     "data": {
      "text/plain": [
       "array([ 2,  3,  4,  5,  6,  8,  9, 10, 11, 13, 14, 15, 16, 17, 18, 19, 22,\n",
       "       23, 25, 26, 27, 28, 31, 33, 34, 35, 36, 37, 39, 40, 41, 42, 43, 44])"
      ]
     },
     "execution_count": 32,
     "metadata": {},
     "output_type": "execute_result"
    }
   ],
   "source": [
    "train['subject_id'].unique()"
   ]
  },
  {
   "cell_type": "code",
   "execution_count": null,
   "metadata": {
    "collapsed": true
   },
   "outputs": [],
   "source": []
  }
 ],
 "metadata": {
  "kernelspec": {
   "display_name": "Python 2",
   "language": "python",
   "name": "python2"
  },
  "language_info": {
   "codemirror_mode": {
    "name": "ipython",
    "version": 2
   },
   "file_extension": ".py",
   "mimetype": "text/x-python",
   "name": "python",
   "nbconvert_exporter": "python",
   "pygments_lexer": "ipython2",
   "version": "2.7.11"
  }
 },
 "nbformat": 4,
 "nbformat_minor": 0
}
